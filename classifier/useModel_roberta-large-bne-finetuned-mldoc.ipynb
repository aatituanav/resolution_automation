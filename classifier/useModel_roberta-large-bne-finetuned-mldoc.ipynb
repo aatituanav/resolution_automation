{
 "cells": [
  {
   "cell_type": "code",
   "execution_count": null,
   "metadata": {},
   "outputs": [],
   "source": [
    "!pip install transformers datasets tensorflow huggingface_hub -q > /dev/null 2>&1"
   ]
  },
  {
   "cell_type": "markdown",
   "metadata": {
    "id": "1ltO5Xb-594N"
   },
   "source": [
    "# roberta-large-bne-finetuned-mldoc\n",
    "\n",
    "El presente colab se utiliza únicamente para inferencias del modelo ya entrenado."
   ]
  },
  {
   "cell_type": "markdown",
   "metadata": {
    "id": "4gQm2BkWMiUb"
   },
   "source": [
    "# Cargar Modelo"
   ]
  },
  {
   "cell_type": "code",
   "execution_count": 1,
   "metadata": {
    "colab": {
     "base_uri": "https://localhost:8080/",
     "height": 197,
     "referenced_widgets": [
      "75b8150f60e046edaacb1318cc8ad0f2",
      "c1f6f2d47bce414484e16c71b8b82a33",
      "0d3705c9826d4566a32c9c53caa12846",
      "943eecbf03f544109f367ee9a1d5790a",
      "88ad455460544fa9a0158faac41ce976",
      "5d3205437d2c42b68f49e1a011baf3a0",
      "686b353ef3f74429a575cd0a44550c0b",
      "a81294c1bc214b9888c72afc3c9c3879",
      "2a85f07c0f7d4e0e8e8435b9dab7d67e",
      "3b634721bf4141ab9dbc3954218a0e25",
      "46893a9510cc4b8ead4ce5e5fb690eb1"
     ]
    },
    "executionInfo": {
     "elapsed": 34913,
     "status": "ok",
     "timestamp": 1755999781021,
     "user": {
      "displayName": "Andres Valarezo",
      "userId": "09414594367745218883"
     },
     "user_tz": 300
    },
    "id": "5QPx9MZZoxbO",
    "outputId": "0f089631-bb95-4839-f2e5-b32c45f4d87d"
   },
   "outputs": [
    {
     "name": "stderr",
     "output_type": "stream",
     "text": [
      "/usr/local/lib/python3.12/dist-packages/huggingface_hub/utils/_auth.py:94: UserWarning: \n",
      "The secret `HF_TOKEN` does not exist in your Colab secrets.\n",
      "To authenticate with the Hugging Face Hub, create a token in your settings tab (https://huggingface.co/settings/tokens), set it as secret in your Google Colab and restart your session.\n",
      "You will be able to reuse this secret in all of your notebooks.\n",
      "Please note that authentication is recommended but still optional to access public models or datasets.\n",
      "  warnings.warn(\n"
     ]
    },
    {
     "data": {
      "application/vnd.jupyter.widget-view+json": {
       "model_id": "75b8150f60e046edaacb1318cc8ad0f2",
       "version_major": 2,
       "version_minor": 0
      },
      "text/plain": [
       "Fetching 12 files:   0%|          | 0/12 [00:00<?, ?it/s]"
      ]
     },
     "metadata": {},
     "output_type": "display_data"
    },
    {
     "name": "stderr",
     "output_type": "stream",
     "text": [
      "TensorFlow and JAX classes are deprecated and will be removed in Transformers v5. We recommend migrating to PyTorch classes or pinning your version of Transformers.\n",
      "WARNING:tensorflow:No training configuration found in save file, so the model was *not* compiled. Compile it manually.\n"
     ]
    }
   ],
   "source": [
    "import tensorflow as tf\n",
    "from huggingface_hub import from_pretrained_keras\n",
    "from transformers import AutoTokenizer, TFRobertaModel\n",
    "from huggingface_hub import snapshot_download\n",
    "\n",
    "repo_id = \"aatituanav/roberta-base-bne-mldoc-4cat\"\n",
    "\n",
    "# descarga de el repositorio completo\n",
    "local_dir = snapshot_download(repo_id=repo_id)\n",
    "\n",
    "# carga el modelo\n",
    "model = tf.keras.models.load_model(\n",
    "    local_dir,\n",
    "    custom_objects={\"TFRobertaModel\": TFRobertaModel}\n",
    ")\n",
    "\n",
    "# carga el tokenizer\n",
    "tokenizer = AutoTokenizer.from_pretrained(local_dir)\n"
   ]
  },
  {
   "cell_type": "markdown",
   "metadata": {
    "id": "WWPSMVJOxAxR"
   },
   "source": [
    "# Utilización del Modelo\n",
    "Se clasifican resoluciones de 4 categorias:\n",
    "*   Infraestructura y Recursos\n",
    "*   Nombramientos de Personal\n",
    "*   Aprobaciones de Planes\n",
    "*   Modificaciones Reglamentarias\n",
    "\n",
    "#se utilizan las resoluciones del documento proporcionado para las inferencias"
   ]
  },
  {
   "cell_type": "code",
   "execution_count": 2,
   "metadata": {
    "executionInfo": {
     "elapsed": 10,
     "status": "ok",
     "timestamp": 1755999807245,
     "user": {
      "displayName": "Andres Valarezo",
      "userId": "09414594367745218883"
     },
     "user_tz": 300
    },
    "id": "pK6qEyL9w_Wu"
   },
   "outputs": [],
   "source": [
    "def predecir_texto(texto, tokenizer, model, max_length=256):\n",
    "    # Tokenizar el texto de entrada\n",
    "    inputs = tokenizer(\n",
    "        texto,\n",
    "        truncation=True,\n",
    "        max_length=max_length,\n",
    "        padding=True,\n",
    "        return_tensors=\"tf\"\n",
    "    )\n",
    "\n",
    "    # Hacer la predicción\n",
    "    logits = model.predict({\n",
    "        \"input_ids\": inputs[\"input_ids\"],\n",
    "        \"attention_mask\": inputs[\"attention_mask\"]\n",
    "    })\n",
    "\n",
    "    # Clase predicha\n",
    "    clase_predicha = tf.argmax(logits, axis=1).numpy()[0]\n",
    "\n",
    "    # Probabilidades de cada clase\n",
    "    probabilidades = tf.nn.softmax(logits, axis=1).numpy()[0]\n",
    "\n",
    "    return clase_predicha, probabilidades"
   ]
  },
  {
   "cell_type": "code",
   "execution_count": 6,
   "metadata": {
    "colab": {
     "base_uri": "https://localhost:8080/"
    },
    "executionInfo": {
     "elapsed": 102,
     "status": "ok",
     "timestamp": 1755999856425,
     "user": {
      "displayName": "Andres Valarezo",
      "userId": "09414594367745218883"
     },
     "user_tz": 300
    },
    "id": "cCJ6C303w96d",
    "outputId": "ee8612cd-6492-45ce-a284-5701ae2e0058"
   },
   "outputs": [
    {
     "name": "stdout",
     "output_type": "stream",
     "text": [
      "1/1 [==============================] - 0s 41ms/step\n",
      "Resultado de la predicción:\n",
      "Texto: Artículo 1.- Aprobación del Cronograma para Elecciones de Representantes\n",
      "Estudiantiles del Instituto Superior Tecnológico Yaruquí.  \n",
      "Clase predicha: 2 - Aprobaciones de Planes\n",
      "Probabilidades:\n",
      "   Clase 0 (Infraestructura y Recursos): 0.1822\n",
      "   Clase 1 (Nombramientos de Personal): 0.1888\n",
      "   Clase 2 (Aprobaciones de Planes): 0.4442\n",
      "   Clase 3 (Modificaciones Reglamentarias): 0.1848\n"
     ]
    }
   ],
   "source": [
    "texto_ejemplo = \"\"\"Artículo 1.- Aprobación del Cronograma para Elecciones de Representantes\n",
    "Estudiantiles del Instituto Superior Tecnológico Yaruquí.  \"\"\"\n",
    "\n",
    "# Predecir\n",
    "clase, probs = predecir_texto(texto_ejemplo, tokenizer, model)\n",
    "\n",
    "clases = {\n",
    "    \"0\": \"Infraestructura y Recursos\",\n",
    "    \"1\": \"Nombramientos de Personal\",\n",
    "    \"2\": \"Aprobaciones de Planes\",\n",
    "    \"3\": \"Modificaciones Reglamentarias\"\n",
    "}\n",
    "\n",
    "print(\"Resultado de la predicción:\")\n",
    "print(f\"Texto: {texto_ejemplo}\")\n",
    "print(f\"Clase predicha: {clase} - {clases[str(clase)]}\")\n",
    "print(f\"Probabilidades:\")\n",
    "for i, prob in enumerate(probs):\n",
    "    print(f\"   Clase {i} ({clases[str(i)]}): {prob:.4f}\")"
   ]
  }
 ],
 "metadata": {
  "accelerator": "GPU",
  "colab": {
   "gpuType": "T4",
   "provenance": []
  },
  "kernelspec": {
   "display_name": "Python 3",
   "name": "python3"
  },
  "language_info": {
   "codemirror_mode": {
    "name": "ipython",
    "version": 3
   },
   "file_extension": ".py",
   "mimetype": "text/x-python",
   "name": "python",
   "nbconvert_exporter": "python",
   "pygments_lexer": "ipython3",
   "version": "3.11.10"
  },
  "widgets": {
   "application/vnd.jupyter.widget-state+json": {
    "0d3705c9826d4566a32c9c53caa12846": {
     "model_module": "@jupyter-widgets/controls",
     "model_module_version": "1.5.0",
     "model_name": "FloatProgressModel",
     "state": {
      "_dom_classes": [],
      "_model_module": "@jupyter-widgets/controls",
      "_model_module_version": "1.5.0",
      "_model_name": "FloatProgressModel",
      "_view_count": null,
      "_view_module": "@jupyter-widgets/controls",
      "_view_module_version": "1.5.0",
      "_view_name": "ProgressView",
      "bar_style": "success",
      "description": "",
      "description_tooltip": null,
      "layout": "IPY_MODEL_a81294c1bc214b9888c72afc3c9c3879",
      "max": 12,
      "min": 0,
      "orientation": "horizontal",
      "style": "IPY_MODEL_2a85f07c0f7d4e0e8e8435b9dab7d67e",
      "value": 12
     }
    },
    "2a85f07c0f7d4e0e8e8435b9dab7d67e": {
     "model_module": "@jupyter-widgets/controls",
     "model_module_version": "1.5.0",
     "model_name": "ProgressStyleModel",
     "state": {
      "_model_module": "@jupyter-widgets/controls",
      "_model_module_version": "1.5.0",
      "_model_name": "ProgressStyleModel",
      "_view_count": null,
      "_view_module": "@jupyter-widgets/base",
      "_view_module_version": "1.2.0",
      "_view_name": "StyleView",
      "bar_color": null,
      "description_width": ""
     }
    },
    "3b634721bf4141ab9dbc3954218a0e25": {
     "model_module": "@jupyter-widgets/base",
     "model_module_version": "1.2.0",
     "model_name": "LayoutModel",
     "state": {
      "_model_module": "@jupyter-widgets/base",
      "_model_module_version": "1.2.0",
      "_model_name": "LayoutModel",
      "_view_count": null,
      "_view_module": "@jupyter-widgets/base",
      "_view_module_version": "1.2.0",
      "_view_name": "LayoutView",
      "align_content": null,
      "align_items": null,
      "align_self": null,
      "border": null,
      "bottom": null,
      "display": null,
      "flex": null,
      "flex_flow": null,
      "grid_area": null,
      "grid_auto_columns": null,
      "grid_auto_flow": null,
      "grid_auto_rows": null,
      "grid_column": null,
      "grid_gap": null,
      "grid_row": null,
      "grid_template_areas": null,
      "grid_template_columns": null,
      "grid_template_rows": null,
      "height": null,
      "justify_content": null,
      "justify_items": null,
      "left": null,
      "margin": null,
      "max_height": null,
      "max_width": null,
      "min_height": null,
      "min_width": null,
      "object_fit": null,
      "object_position": null,
      "order": null,
      "overflow": null,
      "overflow_x": null,
      "overflow_y": null,
      "padding": null,
      "right": null,
      "top": null,
      "visibility": null,
      "width": null
     }
    },
    "46893a9510cc4b8ead4ce5e5fb690eb1": {
     "model_module": "@jupyter-widgets/controls",
     "model_module_version": "1.5.0",
     "model_name": "DescriptionStyleModel",
     "state": {
      "_model_module": "@jupyter-widgets/controls",
      "_model_module_version": "1.5.0",
      "_model_name": "DescriptionStyleModel",
      "_view_count": null,
      "_view_module": "@jupyter-widgets/base",
      "_view_module_version": "1.2.0",
      "_view_name": "StyleView",
      "description_width": ""
     }
    },
    "5d3205437d2c42b68f49e1a011baf3a0": {
     "model_module": "@jupyter-widgets/base",
     "model_module_version": "1.2.0",
     "model_name": "LayoutModel",
     "state": {
      "_model_module": "@jupyter-widgets/base",
      "_model_module_version": "1.2.0",
      "_model_name": "LayoutModel",
      "_view_count": null,
      "_view_module": "@jupyter-widgets/base",
      "_view_module_version": "1.2.0",
      "_view_name": "LayoutView",
      "align_content": null,
      "align_items": null,
      "align_self": null,
      "border": null,
      "bottom": null,
      "display": null,
      "flex": null,
      "flex_flow": null,
      "grid_area": null,
      "grid_auto_columns": null,
      "grid_auto_flow": null,
      "grid_auto_rows": null,
      "grid_column": null,
      "grid_gap": null,
      "grid_row": null,
      "grid_template_areas": null,
      "grid_template_columns": null,
      "grid_template_rows": null,
      "height": null,
      "justify_content": null,
      "justify_items": null,
      "left": null,
      "margin": null,
      "max_height": null,
      "max_width": null,
      "min_height": null,
      "min_width": null,
      "object_fit": null,
      "object_position": null,
      "order": null,
      "overflow": null,
      "overflow_x": null,
      "overflow_y": null,
      "padding": null,
      "right": null,
      "top": null,
      "visibility": null,
      "width": null
     }
    },
    "686b353ef3f74429a575cd0a44550c0b": {
     "model_module": "@jupyter-widgets/controls",
     "model_module_version": "1.5.0",
     "model_name": "DescriptionStyleModel",
     "state": {
      "_model_module": "@jupyter-widgets/controls",
      "_model_module_version": "1.5.0",
      "_model_name": "DescriptionStyleModel",
      "_view_count": null,
      "_view_module": "@jupyter-widgets/base",
      "_view_module_version": "1.2.0",
      "_view_name": "StyleView",
      "description_width": ""
     }
    },
    "75b8150f60e046edaacb1318cc8ad0f2": {
     "model_module": "@jupyter-widgets/controls",
     "model_module_version": "1.5.0",
     "model_name": "HBoxModel",
     "state": {
      "_dom_classes": [],
      "_model_module": "@jupyter-widgets/controls",
      "_model_module_version": "1.5.0",
      "_model_name": "HBoxModel",
      "_view_count": null,
      "_view_module": "@jupyter-widgets/controls",
      "_view_module_version": "1.5.0",
      "_view_name": "HBoxView",
      "box_style": "",
      "children": [
       "IPY_MODEL_c1f6f2d47bce414484e16c71b8b82a33",
       "IPY_MODEL_0d3705c9826d4566a32c9c53caa12846",
       "IPY_MODEL_943eecbf03f544109f367ee9a1d5790a"
      ],
      "layout": "IPY_MODEL_88ad455460544fa9a0158faac41ce976"
     }
    },
    "88ad455460544fa9a0158faac41ce976": {
     "model_module": "@jupyter-widgets/base",
     "model_module_version": "1.2.0",
     "model_name": "LayoutModel",
     "state": {
      "_model_module": "@jupyter-widgets/base",
      "_model_module_version": "1.2.0",
      "_model_name": "LayoutModel",
      "_view_count": null,
      "_view_module": "@jupyter-widgets/base",
      "_view_module_version": "1.2.0",
      "_view_name": "LayoutView",
      "align_content": null,
      "align_items": null,
      "align_self": null,
      "border": null,
      "bottom": null,
      "display": null,
      "flex": null,
      "flex_flow": null,
      "grid_area": null,
      "grid_auto_columns": null,
      "grid_auto_flow": null,
      "grid_auto_rows": null,
      "grid_column": null,
      "grid_gap": null,
      "grid_row": null,
      "grid_template_areas": null,
      "grid_template_columns": null,
      "grid_template_rows": null,
      "height": null,
      "justify_content": null,
      "justify_items": null,
      "left": null,
      "margin": null,
      "max_height": null,
      "max_width": null,
      "min_height": null,
      "min_width": null,
      "object_fit": null,
      "object_position": null,
      "order": null,
      "overflow": null,
      "overflow_x": null,
      "overflow_y": null,
      "padding": null,
      "right": null,
      "top": null,
      "visibility": null,
      "width": null
     }
    },
    "943eecbf03f544109f367ee9a1d5790a": {
     "model_module": "@jupyter-widgets/controls",
     "model_module_version": "1.5.0",
     "model_name": "HTMLModel",
     "state": {
      "_dom_classes": [],
      "_model_module": "@jupyter-widgets/controls",
      "_model_module_version": "1.5.0",
      "_model_name": "HTMLModel",
      "_view_count": null,
      "_view_module": "@jupyter-widgets/controls",
      "_view_module_version": "1.5.0",
      "_view_name": "HTMLView",
      "description": "",
      "description_tooltip": null,
      "layout": "IPY_MODEL_3b634721bf4141ab9dbc3954218a0e25",
      "placeholder": "​",
      "style": "IPY_MODEL_46893a9510cc4b8ead4ce5e5fb690eb1",
      "value": " 12/12 [00:00&lt;00:00, 219.31it/s]"
     }
    },
    "a81294c1bc214b9888c72afc3c9c3879": {
     "model_module": "@jupyter-widgets/base",
     "model_module_version": "1.2.0",
     "model_name": "LayoutModel",
     "state": {
      "_model_module": "@jupyter-widgets/base",
      "_model_module_version": "1.2.0",
      "_model_name": "LayoutModel",
      "_view_count": null,
      "_view_module": "@jupyter-widgets/base",
      "_view_module_version": "1.2.0",
      "_view_name": "LayoutView",
      "align_content": null,
      "align_items": null,
      "align_self": null,
      "border": null,
      "bottom": null,
      "display": null,
      "flex": null,
      "flex_flow": null,
      "grid_area": null,
      "grid_auto_columns": null,
      "grid_auto_flow": null,
      "grid_auto_rows": null,
      "grid_column": null,
      "grid_gap": null,
      "grid_row": null,
      "grid_template_areas": null,
      "grid_template_columns": null,
      "grid_template_rows": null,
      "height": null,
      "justify_content": null,
      "justify_items": null,
      "left": null,
      "margin": null,
      "max_height": null,
      "max_width": null,
      "min_height": null,
      "min_width": null,
      "object_fit": null,
      "object_position": null,
      "order": null,
      "overflow": null,
      "overflow_x": null,
      "overflow_y": null,
      "padding": null,
      "right": null,
      "top": null,
      "visibility": null,
      "width": null
     }
    },
    "c1f6f2d47bce414484e16c71b8b82a33": {
     "model_module": "@jupyter-widgets/controls",
     "model_module_version": "1.5.0",
     "model_name": "HTMLModel",
     "state": {
      "_dom_classes": [],
      "_model_module": "@jupyter-widgets/controls",
      "_model_module_version": "1.5.0",
      "_model_name": "HTMLModel",
      "_view_count": null,
      "_view_module": "@jupyter-widgets/controls",
      "_view_module_version": "1.5.0",
      "_view_name": "HTMLView",
      "description": "",
      "description_tooltip": null,
      "layout": "IPY_MODEL_5d3205437d2c42b68f49e1a011baf3a0",
      "placeholder": "​",
      "style": "IPY_MODEL_686b353ef3f74429a575cd0a44550c0b",
      "value": "Fetching 12 files: 100%"
     }
    }
   }
  }
 },
 "nbformat": 4,
 "nbformat_minor": 0
}
