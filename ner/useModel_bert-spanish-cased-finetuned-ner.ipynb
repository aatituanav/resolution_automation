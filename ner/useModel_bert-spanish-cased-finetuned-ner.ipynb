{
 "cells": [
  {
   "cell_type": "code",
   "execution_count": null,
   "metadata": {},
   "outputs": [],
   "source": [
    "!pip install transformers tokenizers seqeval evaluate datasets==3.6.0 -q > /dev/null 2>&1"
   ]
  },
  {
   "cell_type": "markdown",
   "metadata": {
    "id": "F0upvnphZYoK"
   },
   "source": [
    "# PROBAR MODELO"
   ]
  },
  {
   "cell_type": "code",
   "execution_count": null,
   "metadata": {},
   "outputs": [
    {
     "name": "stderr",
     "output_type": "stream",
     "text": [
      "/usr/local/lib/python3.12/dist-packages/huggingface_hub/utils/_auth.py:94: UserWarning: \n",
      "The secret `HF_TOKEN` does not exist in your Colab secrets.\n",
      "To authenticate with the Hugging Face Hub, create a token in your settings tab (https://huggingface.co/settings/tokens), set it as secret in your Google Colab and restart your session.\n",
      "You will be able to reuse this secret in all of your notebooks.\n",
      "Please note that authentication is recommended but still optional to access public models or datasets.\n",
      "  warnings.warn(\n"
     ]
    },
    {
     "data": {
      "application/vnd.jupyter.widget-view+json": {
       "model_id": "dfa38a06df9048dcb995a0c29ec7480e",
       "version_major": 2,
       "version_minor": 0
      },
      "text/plain": [
       "config.json: 0.00B [00:00, ?B/s]"
      ]
     },
     "metadata": {},
     "output_type": "display_data"
    },
    {
     "data": {
      "application/vnd.jupyter.widget-view+json": {
       "model_id": "66981fd9e72244f493c5c36ec85f9d21",
       "version_major": 2,
       "version_minor": 0
      },
      "text/plain": [
       "model.safetensors:   0%|          | 0.00/267M [00:00<?, ?B/s]"
      ]
     },
     "metadata": {},
     "output_type": "display_data"
    },
    {
     "data": {
      "application/vnd.jupyter.widget-view+json": {
       "model_id": "eb967d97c6bc45049f2829a8d764ebde",
       "version_major": 2,
       "version_minor": 0
      },
      "text/plain": [
       "tokenizer_config.json: 0.00B [00:00, ?B/s]"
      ]
     },
     "metadata": {},
     "output_type": "display_data"
    },
    {
     "data": {
      "application/vnd.jupyter.widget-view+json": {
       "model_id": "debd3672e526481c816e2e490c0c82ba",
       "version_major": 2,
       "version_minor": 0
      },
      "text/plain": [
       "vocab.txt: 0.00B [00:00, ?B/s]"
      ]
     },
     "metadata": {},
     "output_type": "display_data"
    },
    {
     "data": {
      "application/vnd.jupyter.widget-view+json": {
       "model_id": "d2520f652a0c49e1b79d5af43e257450",
       "version_major": 2,
       "version_minor": 0
      },
      "text/plain": [
       "tokenizer.json: 0.00B [00:00, ?B/s]"
      ]
     },
     "metadata": {},
     "output_type": "display_data"
    },
    {
     "data": {
      "application/vnd.jupyter.widget-view+json": {
       "model_id": "260009c4b3c746a687461f0220534a1a",
       "version_major": 2,
       "version_minor": 0
      },
      "text/plain": [
       "special_tokens_map.json:   0%|          | 0.00/695 [00:00<?, ?B/s]"
      ]
     },
     "metadata": {},
     "output_type": "display_data"
    },
    {
     "name": "stderr",
     "output_type": "stream",
     "text": [
      "Device set to use cuda:0\n"
     ]
    }
   ],
   "source": [
    "from transformers import pipeline\n",
    "\n",
    "#Se carga el modelo entrenado previamente, se puede colocar el modelo guardado\n",
    "model_checkpoint = \"aatituanav/bert-spanish-cased-finetuned-ner-6ent\"\n",
    "token_classifier = pipeline(\n",
    "    \"token-classification\", model=model_checkpoint, aggregation_strategy=\"simple\"\n",
    ")"
   ]
  },
  {
   "cell_type": "code",
   "execution_count": 2,
   "metadata": {},
   "outputs": [
    {
     "data": {
      "text/plain": [
       "[{'entity_group': 'FECHA',\n",
       "  'score': np.float32(0.9520282),\n",
       "  'word': '16 de septiembre de 2023',\n",
       "  'start': 58,\n",
       "  'end': 82},\n",
       " {'entity_group': 'CARGO',\n",
       "  'score': np.float32(0.63179815),\n",
       "  'word': 'órgano colegiado superior del instituto superior tecnológico yaruqui',\n",
       "  'start': 178,\n",
       "  'end': 246},\n",
       " {'entity_group': 'FECHA',\n",
       "  'score': np.float32(0.9284722),\n",
       "  'word': '16 de septiembre de 2023',\n",
       "  'start': 307,\n",
       "  'end': 331},\n",
       " {'entity_group': 'CARGO',\n",
       "  'score': np.float32(0.5780228),\n",
       "  'word': 'órgano colegiado superior del instituto superior tecnológico yaruqui',\n",
       "  'start': 395,\n",
       "  'end': 463},\n",
       " {'entity_group': 'REGLAMENTO',\n",
       "  'score': np.float32(0.6649067),\n",
       "  'word': 'reglamento de la unidad de relaciones públicas y comunicación',\n",
       "  'start': 490,\n",
       "  'end': 551}]"
      ]
     },
     "execution_count": 2,
     "metadata": {},
     "output_type": "execute_result"
    }
   ],
   "source": [
    "texto = \"\"\"\n",
    "Que, mediante resolución RCT-SE-04-Nro.58-2023 con fecha 16 de septiembre de 2023,\n",
    "en sesión extraordinaria de Consejo Transitorio se posesionó a los representantes\n",
    "docentes al Órgano Colegiado Superior del Instituto Superior Tecnológico Yaruqui.\n",
    "Que, mediante resolución RCT-SE-04- Nro.60- 2023 con fecha 16 de septiembre de 2023,\n",
    "en sesión extraordinaria de Consejo Transitorio se designó al Órgano Colegiado\n",
    "Superior del Instituto Superior Tecnológico Yaruqui.\n",
    "Artículo 1.- Aprobar del Reglamento de la Unidad de Relaciones Públicas y\n",
    "Comunicación\n",
    "\"\"\"\n",
    "token_classifier(texto)"
   ]
  }
 ],
 "metadata": {
  "language_info": {
   "name": "python"
  }
 },
 "nbformat": 4,
 "nbformat_minor": 0
}
