{
 "cells": [
  {
   "cell_type": "code",
   "execution_count": 1,
   "metadata": {},
   "outputs": [],
   "source": [
    "!pip install PyPDF2 langchain faiss-cpu -q > /dev/null 2>&1"
   ]
  },
  {
   "cell_type": "code",
   "execution_count": 2,
   "metadata": {},
   "outputs": [],
   "source": [
    "from langchain.text_splitter import RecursiveCharacterTextSplitter\n",
    "from sentence_transformers import SentenceTransformer\n",
    "import os\n",
    "import pickle\n",
    "import json\n",
    "import numpy as np\n",
    "import PyPDF2\n",
    "import faiss\n",
    "import re"
   ]
  },
  {
   "cell_type": "markdown",
   "metadata": {
    "id": "ksOYjUHc5fvf"
   },
   "source": [
    "# DEFINICIÓN DE MÉTODOS NECESARIOS"
   ]
  },
  {
   "cell_type": "code",
   "execution_count": 3,
   "metadata": {},
   "outputs": [],
   "source": [
    "from huggingface_hub import snapshot_download\n",
    "\n",
    "def load_from_huggingface(repo_name, cache_dir=\".rag_cache\", repo_type=\"dataset\"):\n",
    "    \"\"\"Carga la base de datos RAG desde Hugging Face Hub\"\"\"\n",
    "    try:\n",
    "        # Descargar todo el repositorio\n",
    "        downloaded_path = snapshot_download(\n",
    "            repo_id=repo_name,\n",
    "            repo_type=repo_type,\n",
    "            cache_dir=cache_dir,\n",
    "            allow_patterns=[\"*.pkl\", \"*.npy\", \"*.bin\", \"*.json\"]\n",
    "        )\n",
    "        # Cargar chunks\n",
    "        with open(f\"{downloaded_path}/chunks.pkl\", \"rb\") as f:\n",
    "            chunks = pickle.load(f)\n",
    "\n",
    "        # Cargar embeddings\n",
    "        embeddings = np.load(f\"{downloaded_path}/embeddings.npy\")\n",
    "\n",
    "        # Cargar índice FAISS\n",
    "        index = faiss.read_index(f\"{downloaded_path}/faiss_index.bin\")\n",
    "\n",
    "        # Cargar metadata\n",
    "        with open(f\"{downloaded_path}/metadata.json\", \"r\", encoding=\"utf-8\") as f:\n",
    "            metadata = json.load(f)\n",
    "\n",
    "        # Cargar modelo de embeddings\n",
    "        model = SentenceTransformer(metadata[\"model_name\"], trust_remote_code=True)\n",
    "\n",
    "        print(f\"✅ Base de datos RAG cargada exitosamente desde: {repo_name}\")\n",
    "        return chunks, embeddings, index, model, metadata\n",
    "\n",
    "    except Exception as e:\n",
    "        print(f\"❌ Error cargando desde Hugging Face: {e}\")\n",
    "        raise\n"
   ]
  },
  {
   "cell_type": "code",
   "execution_count": 4,
   "metadata": {},
   "outputs": [
    {
     "name": "stderr",
     "output_type": "stream",
     "text": [
      "/usr/local/lib/python3.12/dist-packages/huggingface_hub/utils/_auth.py:94: UserWarning: \n",
      "The secret `HF_TOKEN` does not exist in your Colab secrets.\n",
      "To authenticate with the Hugging Face Hub, create a token in your settings tab (https://huggingface.co/settings/tokens), set it as secret in your Google Colab and restart your session.\n",
      "You will be able to reuse this secret in all of your notebooks.\n",
      "Please note that authentication is recommended but still optional to access public models or datasets.\n",
      "  warnings.warn(\n"
     ]
    },
    {
     "data": {
      "application/vnd.jupyter.widget-view+json": {
       "model_id": "0aa53619a7d0453195dc7e06a0f466b6",
       "version_major": 2,
       "version_minor": 0
      },
      "text/plain": [
       "Fetching 4 files:   0%|          | 0/4 [00:00<?, ?it/s]"
      ]
     },
     "metadata": {},
     "output_type": "display_data"
    },
    {
     "data": {
      "application/vnd.jupyter.widget-view+json": {
       "model_id": "141bec275abf4785a88fedab8a423d3b",
       "version_major": 2,
       "version_minor": 0
      },
      "text/plain": [
       "chunks.pkl:   0%|          | 0.00/246k [00:00<?, ?B/s]"
      ]
     },
     "metadata": {},
     "output_type": "display_data"
    },
    {
     "data": {
      "application/vnd.jupyter.widget-view+json": {
       "model_id": "b7dc81dcd1dd418bae15aaaf262ddfb9",
       "version_major": 2,
       "version_minor": 0
      },
      "text/plain": [
       "faiss_index.bin:   0%|          | 0.00/1.50M [00:00<?, ?B/s]"
      ]
     },
     "metadata": {},
     "output_type": "display_data"
    },
    {
     "data": {
      "application/vnd.jupyter.widget-view+json": {
       "model_id": "a92d1ed794c643669315a9286cd524d5",
       "version_major": 2,
       "version_minor": 0
      },
      "text/plain": [
       "embeddings.npy:   0%|          | 0.00/1.50M [00:00<?, ?B/s]"
      ]
     },
     "metadata": {},
     "output_type": "display_data"
    },
    {
     "data": {
      "application/vnd.jupyter.widget-view+json": {
       "model_id": "71ef433200ea453c96c460b9b4931fcf",
       "version_major": 2,
       "version_minor": 0
      },
      "text/plain": [
       "metadata.json:   0%|          | 0.00/135 [00:00<?, ?B/s]"
      ]
     },
     "metadata": {},
     "output_type": "display_data"
    },
    {
     "data": {
      "application/vnd.jupyter.widget-view+json": {
       "model_id": "0c531767b5ed46e59247fdf00b13ceae",
       "version_major": 2,
       "version_minor": 0
      },
      "text/plain": [
       "modules.json:   0%|          | 0.00/378 [00:00<?, ?B/s]"
      ]
     },
     "metadata": {},
     "output_type": "display_data"
    },
    {
     "data": {
      "application/vnd.jupyter.widget-view+json": {
       "model_id": "605d55ef159f4290b9c551c4304e4d62",
       "version_major": 2,
       "version_minor": 0
      },
      "text/plain": [
       "config_sentence_transformers.json:   0%|          | 0.00/464 [00:00<?, ?B/s]"
      ]
     },
     "metadata": {},
     "output_type": "display_data"
    },
    {
     "data": {
      "application/vnd.jupyter.widget-view+json": {
       "model_id": "9c229bfb87c14175a97b5721918ef110",
       "version_major": 2,
       "version_minor": 0
      },
      "text/plain": [
       "README.md: 0.00B [00:00, ?B/s]"
      ]
     },
     "metadata": {},
     "output_type": "display_data"
    },
    {
     "data": {
      "application/vnd.jupyter.widget-view+json": {
       "model_id": "c3ce9528559a4dccadd8b72ed5910b49",
       "version_major": 2,
       "version_minor": 0
      },
      "text/plain": [
       "custom_st.py: 0.00B [00:00, ?B/s]"
      ]
     },
     "metadata": {},
     "output_type": "display_data"
    },
    {
     "name": "stderr",
     "output_type": "stream",
     "text": [
      "A new version of the following files was downloaded from https://huggingface.co/jinaai/jina-embeddings-v3:\n",
      "- custom_st.py\n",
      ". Make sure to double-check they do not contain any added malicious code. To avoid downloading new versions of the code file, you can pin a revision.\n"
     ]
    },
    {
     "data": {
      "application/vnd.jupyter.widget-view+json": {
       "model_id": "7c87118819fd4e3eb017ffcf7bc7e096",
       "version_major": 2,
       "version_minor": 0
      },
      "text/plain": [
       "config.json: 0.00B [00:00, ?B/s]"
      ]
     },
     "metadata": {},
     "output_type": "display_data"
    },
    {
     "data": {
      "application/vnd.jupyter.widget-view+json": {
       "model_id": "4e5b39e7cf62466c9335f75c680aa17d",
       "version_major": 2,
       "version_minor": 0
      },
      "text/plain": [
       "configuration_xlm_roberta.py: 0.00B [00:00, ?B/s]"
      ]
     },
     "metadata": {},
     "output_type": "display_data"
    },
    {
     "name": "stderr",
     "output_type": "stream",
     "text": [
      "A new version of the following files was downloaded from https://huggingface.co/jinaai/xlm-roberta-flash-implementation:\n",
      "- configuration_xlm_roberta.py\n",
      ". Make sure to double-check they do not contain any added malicious code. To avoid downloading new versions of the code file, you can pin a revision.\n"
     ]
    },
    {
     "data": {
      "application/vnd.jupyter.widget-view+json": {
       "model_id": "fc3c6a46556744dbae36216b2896093f",
       "version_major": 2,
       "version_minor": 0
      },
      "text/plain": [
       "modeling_lora.py: 0.00B [00:00, ?B/s]"
      ]
     },
     "metadata": {},
     "output_type": "display_data"
    },
    {
     "data": {
      "application/vnd.jupyter.widget-view+json": {
       "model_id": "3da836d3ae0b46a1a149a10cce92dffb",
       "version_major": 2,
       "version_minor": 0
      },
      "text/plain": [
       "modeling_xlm_roberta.py: 0.00B [00:00, ?B/s]"
      ]
     },
     "metadata": {},
     "output_type": "display_data"
    },
    {
     "data": {
      "application/vnd.jupyter.widget-view+json": {
       "model_id": "8aba6f2d4fb44d39916e6ab489d32c75",
       "version_major": 2,
       "version_minor": 0
      },
      "text/plain": [
       "xlm_padding.py: 0.00B [00:00, ?B/s]"
      ]
     },
     "metadata": {},
     "output_type": "display_data"
    },
    {
     "name": "stderr",
     "output_type": "stream",
     "text": [
      "A new version of the following files was downloaded from https://huggingface.co/jinaai/xlm-roberta-flash-implementation:\n",
      "- xlm_padding.py\n",
      ". Make sure to double-check they do not contain any added malicious code. To avoid downloading new versions of the code file, you can pin a revision.\n"
     ]
    },
    {
     "data": {
      "application/vnd.jupyter.widget-view+json": {
       "model_id": "5a7b3202b64a4e6492bdb87db62b0a8f",
       "version_major": 2,
       "version_minor": 0
      },
      "text/plain": [
       "rotary.py: 0.00B [00:00, ?B/s]"
      ]
     },
     "metadata": {},
     "output_type": "display_data"
    },
    {
     "name": "stderr",
     "output_type": "stream",
     "text": [
      "A new version of the following files was downloaded from https://huggingface.co/jinaai/xlm-roberta-flash-implementation:\n",
      "- rotary.py\n",
      ". Make sure to double-check they do not contain any added malicious code. To avoid downloading new versions of the code file, you can pin a revision.\n"
     ]
    },
    {
     "data": {
      "application/vnd.jupyter.widget-view+json": {
       "model_id": "1a5a157038aa446c9bce4472e8100407",
       "version_major": 2,
       "version_minor": 0
      },
      "text/plain": [
       "mha.py: 0.00B [00:00, ?B/s]"
      ]
     },
     "metadata": {},
     "output_type": "display_data"
    },
    {
     "name": "stderr",
     "output_type": "stream",
     "text": [
      "A new version of the following files was downloaded from https://huggingface.co/jinaai/xlm-roberta-flash-implementation:\n",
      "- mha.py\n",
      ". Make sure to double-check they do not contain any added malicious code. To avoid downloading new versions of the code file, you can pin a revision.\n"
     ]
    },
    {
     "data": {
      "application/vnd.jupyter.widget-view+json": {
       "model_id": "ec04d2d957be4d8890d643b70fa8b8cc",
       "version_major": 2,
       "version_minor": 0
      },
      "text/plain": [
       "embedding.py: 0.00B [00:00, ?B/s]"
      ]
     },
     "metadata": {},
     "output_type": "display_data"
    },
    {
     "name": "stderr",
     "output_type": "stream",
     "text": [
      "A new version of the following files was downloaded from https://huggingface.co/jinaai/xlm-roberta-flash-implementation:\n",
      "- embedding.py\n",
      ". Make sure to double-check they do not contain any added malicious code. To avoid downloading new versions of the code file, you can pin a revision.\n"
     ]
    },
    {
     "data": {
      "application/vnd.jupyter.widget-view+json": {
       "model_id": "0306cf5793554b4ab4a55ab81ed209be",
       "version_major": 2,
       "version_minor": 0
      },
      "text/plain": [
       "block.py: 0.00B [00:00, ?B/s]"
      ]
     },
     "metadata": {},
     "output_type": "display_data"
    },
    {
     "data": {
      "application/vnd.jupyter.widget-view+json": {
       "model_id": "ce3d1041af214a7bb6040e0b309c3ced",
       "version_major": 2,
       "version_minor": 0
      },
      "text/plain": [
       "stochastic_depth.py: 0.00B [00:00, ?B/s]"
      ]
     },
     "metadata": {},
     "output_type": "display_data"
    },
    {
     "name": "stderr",
     "output_type": "stream",
     "text": [
      "A new version of the following files was downloaded from https://huggingface.co/jinaai/xlm-roberta-flash-implementation:\n",
      "- stochastic_depth.py\n",
      ". Make sure to double-check they do not contain any added malicious code. To avoid downloading new versions of the code file, you can pin a revision.\n"
     ]
    },
    {
     "data": {
      "application/vnd.jupyter.widget-view+json": {
       "model_id": "eccb54bdeff14e7493a3f3ad7fb6f9e6",
       "version_major": 2,
       "version_minor": 0
      },
      "text/plain": [
       "mlp.py: 0.00B [00:00, ?B/s]"
      ]
     },
     "metadata": {},
     "output_type": "display_data"
    },
    {
     "name": "stderr",
     "output_type": "stream",
     "text": [
      "A new version of the following files was downloaded from https://huggingface.co/jinaai/xlm-roberta-flash-implementation:\n",
      "- mlp.py\n",
      ". Make sure to double-check they do not contain any added malicious code. To avoid downloading new versions of the code file, you can pin a revision.\n",
      "A new version of the following files was downloaded from https://huggingface.co/jinaai/xlm-roberta-flash-implementation:\n",
      "- block.py\n",
      "- stochastic_depth.py\n",
      "- mlp.py\n",
      ". Make sure to double-check they do not contain any added malicious code. To avoid downloading new versions of the code file, you can pin a revision.\n",
      "A new version of the following files was downloaded from https://huggingface.co/jinaai/xlm-roberta-flash-implementation:\n",
      "- modeling_xlm_roberta.py\n",
      "- xlm_padding.py\n",
      "- rotary.py\n",
      "- mha.py\n",
      "- embedding.py\n",
      "- block.py\n",
      ". Make sure to double-check they do not contain any added malicious code. To avoid downloading new versions of the code file, you can pin a revision.\n",
      "A new version of the following files was downloaded from https://huggingface.co/jinaai/xlm-roberta-flash-implementation:\n",
      "- modeling_lora.py\n",
      "- modeling_xlm_roberta.py\n",
      ". Make sure to double-check they do not contain any added malicious code. To avoid downloading new versions of the code file, you can pin a revision.\n"
     ]
    },
    {
     "data": {
      "application/vnd.jupyter.widget-view+json": {
       "model_id": "a65dc469168a4d66b7bda275a1b56a8f",
       "version_major": 2,
       "version_minor": 0
      },
      "text/plain": [
       "model.safetensors:   0%|          | 0.00/1.14G [00:00<?, ?B/s]"
      ]
     },
     "metadata": {},
     "output_type": "display_data"
    },
    {
     "data": {
      "application/vnd.jupyter.widget-view+json": {
       "model_id": "86401cfda6cb426484a8a1dcc4d6a449",
       "version_major": 2,
       "version_minor": 0
      },
      "text/plain": [
       "tokenizer_config.json: 0.00B [00:00, ?B/s]"
      ]
     },
     "metadata": {},
     "output_type": "display_data"
    },
    {
     "data": {
      "application/vnd.jupyter.widget-view+json": {
       "model_id": "e3b9caaf017a4ca1972fdccfe433e638",
       "version_major": 2,
       "version_minor": 0
      },
      "text/plain": [
       "tokenizer.json:   0%|          | 0.00/17.1M [00:00<?, ?B/s]"
      ]
     },
     "metadata": {},
     "output_type": "display_data"
    },
    {
     "data": {
      "application/vnd.jupyter.widget-view+json": {
       "model_id": "2e9dfa37f4b94b74871ba50b7c105edb",
       "version_major": 2,
       "version_minor": 0
      },
      "text/plain": [
       "special_tokens_map.json:   0%|          | 0.00/964 [00:00<?, ?B/s]"
      ]
     },
     "metadata": {},
     "output_type": "display_data"
    },
    {
     "data": {
      "application/vnd.jupyter.widget-view+json": {
       "model_id": "c8565f4d9f72480686b774e6a18c3603",
       "version_major": 2,
       "version_minor": 0
      },
      "text/plain": [
       "config.json:   0%|          | 0.00/192 [00:00<?, ?B/s]"
      ]
     },
     "metadata": {},
     "output_type": "display_data"
    },
    {
     "name": "stdout",
     "output_type": "stream",
     "text": [
      "✅ Base de datos RAG cargada exitosamente desde: aatituanav/rag_LOES\n"
     ]
    }
   ],
   "source": [
    "#Cargar base vectorial\n",
    "chunks, embeddings, index, model, metadata = load_from_huggingface(\"aatituanav/rag_LOES\")"
   ]
  },
  {
   "cell_type": "code",
   "execution_count": 5,
   "metadata": {},
   "outputs": [],
   "source": [
    "# Búsqueda semántica\n",
    "def semantic_search(query, model, index, chunks, k=5):\n",
    "    \"\"\"\n",
    "    Realiza una búsqueda semántica para encontrar los fragmentos más relevantes a una consulta.\n",
    "\n",
    "    Parámetros:\n",
    "        query: Texto de consulta para la búsqueda\n",
    "        model: Modelo de embeddings para codificar la consulta\n",
    "        index: Índice FAISS con los embeddings indexados\n",
    "        chunks: Lista de fragmentos de texto originales\n",
    "        k: Número de resultados a retornar (por defecto: 5)\n",
    "\n",
    "    Retorna:\n",
    "        list: Lista de los k fragmentos más relevantes a la consulta\n",
    "    \"\"\"\n",
    "    # Generar embedding para la consulta\n",
    "    query_embedding = model.encode([query], task=\"retrieval.query\")\n",
    "    # Buscar\n",
    "    distances, indices = index.search(query_embedding.astype('float32'), k)\n",
    "    relevant_chunks = [chunks[i] for i in indices[0]]\n",
    "\n",
    "    return relevant_chunks"
   ]
  },
  {
   "cell_type": "code",
   "execution_count": 7,
   "metadata": {},
   "outputs": [
    {
     "name": "stdout",
     "output_type": "stream",
     "text": [
      "['Art. 47.2.-Atribuciones del Consejo de Regentes.-Serán deberes y atribuciones del Consejo de\\nRegentes:\\na) Rendir cuentas e informar al Órgano Colegiado Superior de las actividades relativas al\\ncumplimiento de sus funciones, según lo establecido en los estatutos de las instituciones de\\neducación superior a la cual pertenecen, o cuando éste lo requiera.\\nb) Aprobar la planificación estratégica institucional en el marco de las disposiciones de la\\nConstitución y la ley, promoviendo la articulación con el desarrollo nacional.\\nc) Proponer o elegir, de ser el caso, y conforme los mecanismos previstos en esta Ley, el Rector o\\nRectora, Vicerrector o Vicerrectora, respetando el principio de alternabilidad.\\nd) Solicitar la remoción del Rector o Rectora, Vicerrector o Vicerrectora, respetando el debido\\nproceso y conforme a las causales y al procedimiento determinado en esta Ley y su reglamento.\\ne) Las demás que establezca el estatuto de la institución de educación superior, conforme a la', 'Art. 47.1.-Consejo de Regentes.-Las instituciones de educación superior particulares podrán\\nconstituir un Consejo de Regentes que tendrá como principal función la de velar por el cumplimiento\\nde la misión, la visión y los principios fundacionales de estas instituciones.\\nEste Consejo estará integrado por un mínimo de cinco y máximo de siete miembros. Podrán formar\\nparte del Consejo los promotores o fundadores de la institución, siempre que su representación no\\nsupere el número de dos integrantes.\\nLos miembros del Consejo de Regentes deberán acreditar ante el máximo Órgano Colegiado\\nSuperior amplia trayectoria académica o profesional, experiencia en gestión o desempeño en\\nfunciones de gran relevancia en el sector público, privado o comunitario, y probidad, y serán\\nlegalmente responsables por las decisiones y actos que realicen en el ejercicio de sus funciones.\\nEl período de duración y funcionamiento del Consejo de Regentes se regirá de acuerdo a los\\nestatutos de las instituciones de educación superior.', 'Art. 191.-Atribuciones y deberes.-Son atribuciones y deberes de la Asamblea:\\na) Recomendar políticas generales de formación profesional, de investigación, de cultura, de gestión\\ny de vinculación con la sociedad;\\nb) Elegir al Presidente y Vicepresidente de la Asamblea, a los miembros de su Directorio Ejecutivo y\\ndictar sus normas de funcionamiento;\\nc) Pronunciarse sobre las consultas que le fueren planteadas por el Consejo de Educación Superior,\\nel Consejo de Evaluación, Acreditación y Aseguramiento de la Calidad de la Educación Superior y la\\nSecretaría Nacional de Educación Superior, Ciencia, Tecnología e Innovación; y,\\nd) Conocer los informes acerca del estado de la educación superior del país que elaboren, el\\nConsejo de Educación Superior y el Consejo de Evaluación, Acreditación y Aseguramiento de la\\nCalidad de la Educación Superior.', 'Art. 193.-Deberes y Atribuciones del Directorio Ejecutivo.-Serán deberes y atribuciones del Directorio\\nEjecutivo las siguientes:\\na) Ser portavoz de la Asamblea del Sistema de Educación Superior ante los organismos del sistema;\\nb) Asesorar a la Asamblea sobre los procesos académicos, de evaluación y acreditación;\\nc) Recomendar al Consejo de Educación Superior actualizaciones a los contenidos y ejecución del\\nSistema de Nivelación y Admisión Estudiantil, y del Sistema de Evaluación Estudiantil de la\\neducación superior; y,\\nd) Proponer al Consejo de Educación Superior temas de interés para el Sistema de Educación\\nSuperior.\\nSección Segunda\\nDe los Comités Regionales Consultivos de\\nPlanificación de la Educación Superior', 'Art. 67.-Responsabilidad de los miembros de los órganos de gobierno.-Los miembros de todos los\\nórganos de gobierno de las instituciones del Sistema de Educación Superior, serán personal y\\npecuniariamente responsables por sus decisiones.']\n"
     ]
    }
   ],
   "source": [
    "#Probar alguna busqueda del LOES\n",
    "query = \"Cuales son las obligaciones del consejo de regentes?\"\n",
    "relevant_chunks2 = semantic_search(query, model, index, chunks)\n",
    "print(relevant_chunks2)"
   ]
  },
  {
   "cell_type": "code",
   "execution_count": 8,
   "metadata": {},
   "outputs": [],
   "source": [
    "#Configurar API de DeepSeek con sintaxis actualizada\n",
    "from openai import OpenAI\n",
    "import pandas as pd\n",
    "import json\n",
    "\n",
    "client = OpenAI(\n",
    "    api_key=\"sk-d2857e84df9e4e30a056b3cab70254f9\",\n",
    "    base_url=\"https://api.deepseek.com/v1\"\n",
    ")\n",
    "\n",
    "def callPromptLLM(prompt, role):\n",
    "    \"\"\"\n",
    "    Realiza una llamada al modelo de lenguaje DeepSeek con un prompt y rol específico.\n",
    "    Parámetros:\n",
    "        prompt: Texto de entrada para el modelo\n",
    "        role: Rol del sistema que define el contexto de la interacción\n",
    "    Retorna:\n",
    "        str: Respuesta generada por el modelo o None en caso de error\n",
    "    \"\"\"\n",
    "    try:\n",
    "        response = client.chat.completions.create(\n",
    "            model=\"deepseek-chat\",\n",
    "            messages=[\n",
    "                {\"role\": \"system\", \"content\": role},\n",
    "                {\"role\": \"user\", \"content\": prompt}\n",
    "            ],\n",
    "            max_tokens=5000,\n",
    "            temperature=0.3,\n",
    "            top_p=0.9,\n",
    "            frequency_penalty=0.3,\n",
    "        )\n",
    "        return response.choices[0].message.content.strip()\n",
    "    except Exception as e:\n",
    "        print(f\"Error procesando\")\n",
    "        print(e)\n",
    "        return None"
   ]
  },
  {
   "cell_type": "code",
   "execution_count": 10,
   "metadata": {},
   "outputs": [],
   "source": [
    "def generate_context(keywords):\n",
    "    # Transformar una lista de palabras clave en consultas de búsqueda\n",
    "    role = \"Eres un experto en análisis semántico y búsqueda de información legal-académica, especializado en la Ley Orgánica de Educación Superior (LOES) del Ecuador y su marco normativo relacionado.\"\n",
    "    prompt = f'''\n",
    "TAREA: Tu tarea es analizar las palabras clave proporcionadas y generar una \"expansión de consulta\" No te limites a buscar sinónimos. Debes inferir la intención normativa detrás de las palabras y generar una lista de frases y términos de búsqueda precisos que probablemente se encuentren en el texto de la LOES.\n",
    "Los términos que generes deben optimizar la recuperación de artículos, reglamentos y procedimientos relevantes que luego servirán como **considerandos legales** en la elaboración de un borrador.\n",
    "CONTEXTO: Estoy utilizando un sistema de Búsqueda y Generación Aumentada (RAG) que tiene acceso exclusivo a una base de datos vectorial con el texto completo y actualizado de la \"Ley Orgánica de Educación Superior del Ecuador\". El objetivo final es identificar los artículos exactos de esta ley que justifiquen y fundamenten la creación de un nuevo borrador de reglamento o procedimiento basado en un conjunto de palabras clave.\n",
    "\n",
    "INSTRUCIONES:\n",
    "1. **Contextualización legal:**\n",
    "   - Relaciona las palabras clave con conceptos jurídicos, estructuras administrativas o procesos académicos definidos en la LOES (ej: \"matrícula\" → \"proceso de matrícula\", \"derechos académicos\", \"requisitos de inscripción\").\n",
    "2. **Sinónimos y jerarquía normativa:**\n",
    "   - Incluye sinónimos legales (ej: \"estudiante\" → \"educando\", \"sujeto de derecho educativo\"), términos técnicos (ej: \"régimen académico\") y referencias a secciones de la ley (ej: \"Capítulo III, Título IV\").\n",
    "4. **Precisión para RAG:**\n",
    "   - Prioriza términos que probablemente aparezcan textualmente en la LOES (ej: \"fraude académico\" → \"faltas disciplinarias\", \"procedimiento sancionatorio\").\n",
    "\n",
    "### Ejemplo:\n",
    "**Palabras clave de entrada:** \"matrícula\", \"derechos estudiantes\"\n",
    "**Términos generados:**\n",
    "1. Proceso de matrícula y inscripción\n",
    "2. Requisitos de matrícula ordinaria y extraordinaria\n",
    "3. Derechos y obligaciones de los estudiantes\n",
    "4. Régimen académico estudiantil\n",
    "5. Garantías procedimentales en matrícula\n",
    "7. Reglamento de registro académico\n",
    "8. Cancelación de matrícula\n",
    "9. Derecho a la participación estudiantil\n",
    "10. Reclamos por negativa de matrícula\n",
    "\n",
    "FORMATO DE SALIDA: Presenta 5 terminos de busqueda en diferentes lineas. No des ninguna explicación adicional.\n",
    "\n",
    "PALABRAS CLAVE: {\",\".join(keywords)}\n",
    "    '''\n",
    "    numberRelevantChunks_k = 3\n",
    "    potentialQueriesString = callPromptLLM(prompt, role)\n",
    "    queries = potentialQueriesString.splitlines()\n",
    "    print(\"Términos clave: \\n\"+potentialQueriesString)\n",
    "    all_relevant_chunks = []\n",
    "    for query in queries:\n",
    "        relevant_chunks = semantic_search(query, model, index, chunks, k=numberRelevantChunks_k)\n",
    "        all_relevant_chunks.extend(relevant_chunks)\n",
    "    # Eliminar duplicados manteniendo el orden\n",
    "    seen = set()\n",
    "    unique_chunks = []\n",
    "    for chunk in all_relevant_chunks:\n",
    "        if chunk not in seen:\n",
    "            seen.add(chunk)\n",
    "            unique_chunks.append(chunk)\n",
    "    # Limitar a los 15 chunks más relevantes\n",
    "    # Configurar esto dependiendo de la cantidad de chunks relevantes encontrados (k)\n",
    "    #y de la longitud de \"queries\"\n",
    "    maxChunks = max(15, len(queries)*numberRelevantChunks_k)\n",
    "    context = \"\\n\\n\".join(unique_chunks[:maxChunks])\n",
    "    return context"
   ]
  },
  {
   "cell_type": "code",
   "execution_count": 11,
   "metadata": {},
   "outputs": [],
   "source": [
    "def generate_draft_document(keywords, context):\n",
    "    #Genera un borrador de documento basado en el contexto\n",
    "\n",
    "    role = \"Eres un asistente experto en redacción de documentos oficiales para instituciones de educación superior en Ecuador, con amplio conocimiento de la Ley Orgánica de Educación Superior (LOES) y normativa interna institucional.\"\n",
    "    prompt = f\"\"\"\n",
    "\n",
    "TAREA: Generar un borrador de resolución completo y formal para el Instituto Superior Tecnológico Yaruquí. Para ello, recibirás dos elementos clave: PALABRAS CLAVE que resumen la decisión a tomar, y un conjunto de LEYES Y NORMATIVAS que servirán de base para la argumentación. El borrador debe reflejar fielmente la intención de las palabras clave y estar fundamentado en las normas proporcionadas.\n",
    "\n",
    "INSTRUCCIONES:\n",
    "*Analizar las PALABRAS CLAVE: Lee atentamente las PALABRAS CLAVE para identificar la intención principal y los elementos centrales de la resolución.\n",
    "*Redactar la sección 'RESUELVE': Basándote en el análisis de las PALABRAS CLAVE, redacta uno o varios artículos claros, concisos y en lenguaje formal y jurídico que materialicen la decisión. Cada artículo debe corresponder a una acción específica. Por ejemplo, si las palabras clave son 'aprobacion, adquisicion equipos, designacion a Andres Tituana', deberás crear un artículo para la aprobación de la adquisición y otro para la designación de la persona encargada.\n",
    "*Analizar las LEYES Y NORMATIVAS: Revisa el contexto legal proporcionado. Identifica y extrae los artículos, estatutos o principios que justifican y dan fundamento a las decisiones que se redactan en la sección 'RESUELVE'.\n",
    "*Redactar la sección 'CONSIDERANDO': Utiliza las normativas relevantes que identificaste para elaborar los 'considerandos'. Cada considerando debe ser un párrafo que explique el marco legal o la razón de ser de la resolución, citando o parafraseando las leyes proporcionadas. Debes conectar lógicamente el marco normativo con la decisión que se tomará.\n",
    "*Ensamblar la Resolución Final: Integra las secciones CONSIDERANDO y RESUELVE en la plantilla de formato estricto que se proporciona a continuación. No alteres la estructura fija del documento. Completa los campos variables como el número de resolución y la fecha con placeholders (corchetes) si no se proporcionan.\n",
    "*Formato estricto (No modificar esta estructura)\n",
    "  ```\n",
    "  RESOLUCIÓN: [NUMERO_RESOLUCION]\n",
    "\n",
    "  EL ÓRGANO COLEGIADO SUPERIOR DEL INSTITUTO SUPERIOR TECNOLÓGICO YARUQUÍ\n",
    "\n",
    "  CONSIDERANDO:\n",
    "  (Aquí elabora los considerandos basándote en las normas proporcionadas que más reflejen la resolución que se va a crear, para ello analiza cada contexto que se te va a proporcionar sobre las normas)\n",
    "\n",
    "  RESUELVE:\n",
    "  (Aquí colocas la resolución, redactada en uno o más artículos, basada en las palabras clave)\n",
    "\n",
    "  DISPOSICIONES FINALES:\n",
    "\n",
    "  PRIMERA.- La presente resolución entrará en vigencia a partir de la fecha de suscripción de la misma.\n",
    "  SEGUNDA.- Comuníquese y cúmplase.\n",
    "\n",
    "  Dado en la ciudad de Quito, a los [FECHA], en la [NUMEROSESSION] sesión [TIPOSESSION] del Órgano Colegiado Superior del Instituto Superior Tecnológico Yaruquí.\n",
    "\n",
    "  Mgs. Isabel Rodriguez\n",
    "  RECTORA\n",
    "\n",
    "  Lcda. Melissa Aguilar\n",
    "  SECRETARIA\n",
    "  ```\n",
    "PALABRAS CLAVE ###{keywords}###\n",
    "LEYES Y NORMATIVAS ###{context}###\n",
    "    \"\"\"\n",
    "    template = callPromptLLM(prompt, role)\n",
    "    return template"
   ]
  },
  {
   "cell_type": "markdown",
   "metadata": {
    "id": "_-Fwipss5am_"
   },
   "source": [
    "# UTILIZACIÓN\n",
    "Esperar un momento en lo que se genera el borrador ...\n"
   ]
  },
  {
   "cell_type": "code",
   "execution_count": 14,
   "metadata": {},
   "outputs": [
    {
     "name": "stdout",
     "output_type": "stream",
     "text": [
      "Términos clave: \n",
      "Dimisión del consejo directivo\n",
      "Procedimiento de renuncia de autoridades institucionales\n",
      "Causales de cese de miembros del consejo directivo\n",
      "Reemplazo y sucesión en órganos de gobierno universitario\n",
      "Atribuciones del consejo directivo en casos de dimisión\n",
      "```  \n",
      "RESOLUCIÓN: [NUMERO_RESOLUCION]\n",
      "\n",
      "EL ÓRGANO COLEGIADO SUPERIOR DEL INSTITUTO SUPERIOR TECNOLÓGICO YARUQUÍ\n",
      "\n",
      "CONSIDERANDO:\n",
      "Que, de conformidad con lo establecido en el Art. 64.1 de la Ley Orgánica de Educación Superior, las máximas autoridades de las Instituciones de Educación Superior podrán ser removidas por el Consejo de Educación Superior, previa solicitud de al menos las dos terceras partes del órgano colegiado superior, en los casos específicamente determinados;\n",
      "\n",
      "Que, según lo dispuesto en el Art. 52 de la LOES, el estatuto de toda institución de educación superior contemplará la subrogación o reemplazo del rector o rectora, vicerrectores o vicerrectoras y autoridades académicas en caso de ausencia temporal o definitiva, en ejercicio de su autonomía responsable;\n",
      "\n",
      "Que, el Art. 63 de la LOES establece que para la instalación y funcionamiento de los órganos de cogobierno será necesario que exista un quórum de más de la mitad de sus integrantes, y que las resoluciones se tomarán por mayoría simple o especial, de conformidad con lo dispuesto en los estatutos de cada institución;\n",
      "\n",
      "Que, mediante comunicación formal recibida en esta Secretaría, el señor Andres Tituana ha presentado su renuncia irrevocable al cargo que venía desempeñando como miembro del Consejo Directivo de esta institución;\n",
      "\n",
      "Que, el Órgano Colegiado Superior, reunido en sesión ordinaria/extraordinaria con el quórum legalmente requerido, ha analizado la situación presentada y determinado proceder conforme a las atribuciones conferidas por la normativa vigente;\n",
      "\n",
      "RESUELVE:\n",
      "ARTÍCULO PRIMERO.- Aceptar la dimisión presentada por el señor Andres Tituana al cargo de miembro del Consejo Directivo del Instituto Superior Tecnológico Yaruquí, efectiva a partir de la fecha de la presente resolución.\n",
      "\n",
      "ARTÍCULO SEGUNDO.- Disponer que el Órgano Colegiado Superior inicie el proceso de designación del nuevo miembro del Consejo Directivo que reemplazará al señor Andres Tituana, conforme a lo establecido en los estatutos institucionales y la normativa vigente.\n",
      "\n",
      "ARTÍCULO TERCERO.- Encargar a la Secretaría General la notificación correspondiente al señor Andres Tituana sobre la aceptación de su renuncia y las disposiciones administrativas derivadas de la misma.\n",
      "\n",
      "DISPOSICIONES FINALES:\n",
      "\n",
      "PRIMERA.- La presente resolución entrará en vigencia a partir de la fecha de suscripción de la misma.\n",
      "SEGUNDA.- Comuníquese y cúmplase.\n",
      "\n",
      "Dado en la ciudad de Quito, a los [FECHA], en la [NUMEROSESSION] sesión [TIPOSESSION] del Órgano Colegiado Superior del Instituto Superior Tecnológico Yaruquí.\n",
      "\n",
      "Mgs. Isabel Rodriguez\n",
      "RECTORA\n",
      "\n",
      "Lcda. Melissa Aguilar\n",
      "SECRETARIA\n",
      "```\n"
     ]
    }
   ],
   "source": [
    "# Procesar consulta del usuario\n",
    "keywords = [\"Andres Tituana\", \"consejo directivo\", \"dimision\"]\n",
    "\n",
    "# Generar contexto\n",
    "context = generate_context(keywords)\n",
    "\n",
    "# Generar borrador\n",
    "borrador = generate_draft_document(keywords, context)\n",
    "\n",
    "print(borrador)"
   ]
  }
 ],
 "metadata": {
  "language_info": {
   "name": "python"
  }
 },
 "nbformat": 4,
 "nbformat_minor": 0
}
